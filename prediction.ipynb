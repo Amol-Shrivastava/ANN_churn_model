{
 "cells": [
  {
   "cell_type": "code",
   "execution_count": 42,
   "metadata": {},
   "outputs": [
    {
     "name": "stderr",
     "output_type": "stream",
     "text": [
      "WARNING:absl:Compiled the loaded model, but the compiled metrics have yet to be built. `model.compile_metrics` will be empty until you train or evaluate the model.\n",
      "e:\\codes\\ai\\project_1\\venv\\Lib\\site-packages\\sklearn\\base.py:493: UserWarning: X does not have valid feature names, but OneHotEncoder was fitted with feature names\n",
      "  warnings.warn(\n"
     ]
    },
    {
     "name": "stdout",
     "output_type": "stream",
     "text": [
      "\u001b[1m1/1\u001b[0m \u001b[32m━━━━━━━━━━━━━━━━━━━━\u001b[0m\u001b[37m\u001b[0m \u001b[1m1s\u001b[0m 615ms/step\n",
      "1.0\n",
      "The customer is likely to churn.\n"
     ]
    }
   ],
   "source": [
    "import tensorflow as tf\n",
    "from tensorflow.keras.models import load_model\n",
    "import pickle\n",
    "import pandas as pd\n",
    "import numpy as ny\n",
    "\n",
    "### load the model and encoders\n",
    "model = load_model('model.h5')\n",
    "\n",
    "## load the encoder and scaler\n",
    "with open('label_encoder_gender.pkl', 'rb') as file:\n",
    "    label_encoder_gender=pickle.load(file)\n",
    "with open('onehot_geography_encoder.pkl', 'rb') as file:\n",
    "    onehot_geography_encoder=pickle.load(file)\n",
    "with open('scaler.pkl', 'rb') as file:\n",
    "    scaler=pickle.load(file)\n",
    "\n",
    "## Example Input data\n",
    "input_data={\n",
    "    \"Age\": 78,\n",
    "    \"Gender\":'Female',\n",
    "    'Geography': 'Spain',\n",
    "    'Tenure': 3,\n",
    "    'Balance': 2000998000,\n",
    "    'NumOfProducts':2,\n",
    "    'HasCrCard': 1,\n",
    "    'IsActiveMember':0,\n",
    "    'EstimatedSalary':5009898980\n",
    "}\n",
    "\n",
    "### transform geography \n",
    "geo_encoded=onehot_geography_encoder.transform([[input_data['Geography']]])\n",
    "geo_encoded_df=pd.DataFrame(geo_encoded, columns=onehot_geography_encoder.get_feature_names_out(['Geography']))\n",
    "# geo_encoded_df\n",
    "\n",
    "input_df= pd.DataFrame([input_data])\n",
    "# input_df\n",
    "\n",
    "### transform Gender\n",
    "input_df['Gender'] = label_encoder_gender.transform(input_df['Gender'])\n",
    "# input_df\n",
    "\n",
    "### concatnate one hot encoded\n",
    "input_df = pd.concat([input_df.drop(\"Geography\", axis=1), geo_encoded_df], axis=1)\n",
    "# input_df\n",
    "\n",
    "## scaling the data\n",
    "input_scaled = scaler.transform(input_df)\n",
    "# input_scaled\n",
    "\n",
    "### Predict churn\n",
    "prediction = model.predict(input_scaled)\n",
    "prediction_prob = float(prediction[0][0])\n",
    "print(prediction_prob)\n",
    "if(prediction_prob > 0.5):\n",
    "    print('The customer is likely to churn.')\n",
    "else:\n",
    "    print('The customer is not likely to churn.')\n"
   ]
  },
  {
   "cell_type": "code",
   "execution_count": null,
   "metadata": {},
   "outputs": [],
   "source": []
  },
  {
   "cell_type": "code",
   "execution_count": null,
   "metadata": {},
   "outputs": [],
   "source": []
  },
  {
   "cell_type": "code",
   "execution_count": null,
   "metadata": {},
   "outputs": [],
   "source": []
  },
  {
   "cell_type": "code",
   "execution_count": null,
   "metadata": {},
   "outputs": [],
   "source": []
  },
  {
   "cell_type": "code",
   "execution_count": null,
   "metadata": {},
   "outputs": [],
   "source": []
  },
  {
   "cell_type": "code",
   "execution_count": null,
   "metadata": {},
   "outputs": [],
   "source": []
  },
  {
   "cell_type": "code",
   "execution_count": null,
   "metadata": {},
   "outputs": [],
   "source": []
  }
 ],
 "metadata": {
  "kernelspec": {
   "display_name": "Python 3",
   "language": "python",
   "name": "python3"
  },
  "language_info": {
   "codemirror_mode": {
    "name": "ipython",
    "version": 3
   },
   "file_extension": ".py",
   "mimetype": "text/x-python",
   "name": "python",
   "nbconvert_exporter": "python",
   "pygments_lexer": "ipython3",
   "version": "3.11.10"
  }
 },
 "nbformat": 4,
 "nbformat_minor": 2
}
